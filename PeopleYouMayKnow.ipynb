{
 "cells": [
  {
   "cell_type": "code",
   "execution_count": 2,
   "id": "a5d5ec19-c408-4acf-a953-5dc559364b73",
   "metadata": {},
   "outputs": [],
   "source": [
    "import json"
   ]
  },
  {
   "cell_type": "code",
   "execution_count": 3,
   "id": "b3d365c2-8a62-450f-a850-fcff7bb5ce3a",
   "metadata": {},
   "outputs": [],
   "source": [
    "def load_data(filename):\n",
    "    with open(filename, \"r\") as f:\n",
    "        return json.load(f)"
   ]
  },
  {
   "cell_type": "code",
   "execution_count": 4,
   "id": "1329aee7-3c14-4fcc-83af-fddee9f5a0d7",
   "metadata": {},
   "outputs": [
    {
     "name": "stdout",
     "output_type": "stream",
     "text": [
      "People You May Know for User 1: [7, 8, 9, 10, 11, 12]\n"
     ]
    }
   ],
   "source": [
    "def people_you_may_know(user_id , data):\n",
    "    user_friends = {}\n",
    "    for user in data[\"users\"]:\n",
    "        user_friends[user['id']] = set(user['friends'])\n",
    "\n",
    "    if user_id not in user_friends:\n",
    "        return []\n",
    "\n",
    "    direct_friends = user_friends[user_id]\n",
    "\n",
    "    suggestions = {}\n",
    "\n",
    "    for friend in direct_friends:\n",
    "        for mutual in user_friends[friend]:\n",
    "            if mutual != user_id and mutual not in direct_friends:\n",
    "                suggestions[mutual] = suggestions.get(mutual , 0) + 1\n",
    "\n",
    "    sorted_suggestions = sorted(suggestions.items(), key=lambda x:x[1] , reverse = True)\n",
    "    return [user_id for user_id, _ in sorted_suggestions]\n",
    "\n",
    "data =  load_data(\"massive.json\")\n",
    "user_id = 1\n",
    "recommendations = people_you_may_know(user_id,data)\n",
    "print(f\"People You May Know for User {user_id}: {recommendations}\")"
   ]
  },
  {
   "cell_type": "code",
   "execution_count": null,
   "id": "f20f5859-de4a-40d4-9951-9c0d6e3ab1c4",
   "metadata": {},
   "outputs": [],
   "source": []
  }
 ],
 "metadata": {
  "kernelspec": {
   "display_name": "Python [conda env:base] *",
   "language": "python",
   "name": "conda-base-py"
  },
  "language_info": {
   "codemirror_mode": {
    "name": "ipython",
    "version": 3
   },
   "file_extension": ".py",
   "mimetype": "text/x-python",
   "name": "python",
   "nbconvert_exporter": "python",
   "pygments_lexer": "ipython3",
   "version": "3.12.7"
  }
 },
 "nbformat": 4,
 "nbformat_minor": 5
}
