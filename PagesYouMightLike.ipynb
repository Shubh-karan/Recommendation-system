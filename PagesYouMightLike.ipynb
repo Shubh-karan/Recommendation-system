{
 "cells": [
  {
   "cell_type": "code",
   "execution_count": 4,
   "id": "0d2f8e37-0218-4ba5-a26d-85501d641e51",
   "metadata": {},
   "outputs": [
    {
     "name": "stdout",
     "output_type": "stream",
     "text": [
      "Pages You Might Like for User 1: [(103, 2), (105, 1), (107, 1), (104, 0), (106, 0), (108, 0), (109, 0), (110, 0), (111, 0), (112, 0), (113, 0), (114, 0), (115, 0), (116, 0), (117, 0), (118, 0), (119, 0), (120, 0), (121, 0), (122, 0), (123, 0), (124, 0), (125, 0), (126, 0), (127, 0)]\n"
     ]
    }
   ],
   "source": [
    "#imports json module\n",
    "import json\n",
    "\n",
    "#function to load the json file\n",
    "def load_data(filename):\n",
    "    with open(filename,'r') as f:\n",
    "        return json.load(f)\n",
    "\n",
    "#function so that we can give the recommendatio of the pages user may like\n",
    "def Pages_You_Might_Like(user_id, data):\n",
    "    #empty dictionary named user_pages so thatwe can get he pages that user liked\n",
    "    user_pages = {}\n",
    "    for user in data['users']:\n",
    "        #using set here so that we can get the unique pages and further we will be going to implement a set function on it also\n",
    "        user_pages[user['id']] = set(user['liked_pages'])\n",
    "\n",
    "    if user_id not in user_pages:\n",
    "        return []\n",
    "\n",
    "    #using this we will get the user liked pages as in the above code it is looping through each user and providing desired data\n",
    "    user_liked_pages = user_pages[user_id]\n",
    "\n",
    "    #in this dictionary we will collect the data of the pages which we can suggest or recommend to the user\n",
    "    page_suggestions = {}\n",
    "\n",
    "    #here .item function make it in items like pair of as (1,2) etc. and then we iterate through each and every user_pages content\n",
    "    for other_user, pages in user_pages.items():\n",
    "        if other_user != user_id:\n",
    "            #here using intersection method of sets as user liked pages comes from user pages which is a set, to get the pages which are common to both\n",
    "            shared_pages = user_liked_pages.intersection(pages)\n",
    "            for page in pages:\n",
    "                if page not in user_liked_pages:\n",
    "                    page_suggestions[page] = page_suggestions.get(page, 0) + len(shared_pages)\n",
    "\n",
    "    # Sort recommended pages based on the number of shared interactions\n",
    "    sorted_pages = sorted(page_suggestions.items(), key=lambda x: x[1], reverse=True)\n",
    "    return sorted_pages\n",
    "    #if you want only page numbers instead of getting score alongside them , ou can use \"[page_id for page_id, _ in sorted_pages]: in place of \"sorted_pages\"\n",
    "\n",
    "# Load data\n",
    "data = load_data(\"massive.json\")\n",
    "user_id = 1  # Example: Finding recommendations for Amit\n",
    "page_recommendations = Pages_You_Might_Like(user_id, data)\n",
    "print(f\"Pages You Might Like for User {user_id}: {page_recommendations}\")\n",
    "    \n",
    "\n"
   ]
  },
  {
   "cell_type": "code",
   "execution_count": null,
   "id": "bcaeb61e-c353-425f-aebc-ffcb2fd61627",
   "metadata": {},
   "outputs": [],
   "source": []
  }
 ],
 "metadata": {
  "kernelspec": {
   "display_name": "Python [conda env:base] *",
   "language": "python",
   "name": "conda-base-py"
  },
  "language_info": {
   "codemirror_mode": {
    "name": "ipython",
    "version": 3
   },
   "file_extension": ".py",
   "mimetype": "text/x-python",
   "name": "python",
   "nbconvert_exporter": "python",
   "pygments_lexer": "ipython3",
   "version": "3.12.7"
  }
 },
 "nbformat": 4,
 "nbformat_minor": 5
}
